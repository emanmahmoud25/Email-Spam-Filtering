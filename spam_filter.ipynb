{
 "cells": [
  {
   "cell_type": "code",
   "execution_count": 108,
   "id": "1d8566a1",
   "metadata": {},
   "outputs": [],
   "source": [
    "import numpy as np\n",
    "import pandas as pd\n",
    "import nltk\n",
    "from nltk.corpus import stopwords\n",
    "from nltk.stem.porter import PorterStemmer\n",
    "import re\n",
    "from sklearn.feature_extraction.text import CountVectorizer \n",
    "from sklearn.preprocessing import LabelEncoder\n",
    "from sklearn.model_selection import train_test_split\n",
    "from sklearn.naive_bayes import GaussianNB\n",
    "from sklearn.tree import DecisionTreeClassifier\n",
    "from sklearn.metrics import confusion_matrix\n",
    "from sklearn.metrics import accuracy_score\n",
    "from sklearn.metrics import classification_report\n"
   ]
  },
  {
   "cell_type": "code",
   "execution_count": 109,
   "id": "068d9e71",
   "metadata": {},
   "outputs": [
    {
     "data": {
      "text/html": [
       "<div>\n",
       "<style scoped>\n",
       "    .dataframe tbody tr th:only-of-type {\n",
       "        vertical-align: middle;\n",
       "    }\n",
       "\n",
       "    .dataframe tbody tr th {\n",
       "        vertical-align: top;\n",
       "    }\n",
       "\n",
       "    .dataframe thead th {\n",
       "        text-align: right;\n",
       "    }\n",
       "</style>\n",
       "<table border=\"1\" class=\"dataframe\">\n",
       "  <thead>\n",
       "    <tr style=\"text-align: right;\">\n",
       "      <th></th>\n",
       "      <th>v1</th>\n",
       "      <th>v2</th>\n",
       "      <th>Unnamed: 2</th>\n",
       "      <th>Unnamed: 3</th>\n",
       "      <th>Unnamed: 4</th>\n",
       "    </tr>\n",
       "  </thead>\n",
       "  <tbody>\n",
       "    <tr>\n",
       "      <th>0</th>\n",
       "      <td>ham</td>\n",
       "      <td>Go until jurong point, crazy.. Available only ...</td>\n",
       "      <td>NaN</td>\n",
       "      <td>NaN</td>\n",
       "      <td>NaN</td>\n",
       "    </tr>\n",
       "    <tr>\n",
       "      <th>1</th>\n",
       "      <td>ham</td>\n",
       "      <td>Ok lar... Joking wif u oni...</td>\n",
       "      <td>NaN</td>\n",
       "      <td>NaN</td>\n",
       "      <td>NaN</td>\n",
       "    </tr>\n",
       "    <tr>\n",
       "      <th>2</th>\n",
       "      <td>spam</td>\n",
       "      <td>Free entry in 2 a wkly comp to win FA Cup fina...</td>\n",
       "      <td>NaN</td>\n",
       "      <td>NaN</td>\n",
       "      <td>NaN</td>\n",
       "    </tr>\n",
       "    <tr>\n",
       "      <th>3</th>\n",
       "      <td>ham</td>\n",
       "      <td>U dun say so early hor... U c already then say...</td>\n",
       "      <td>NaN</td>\n",
       "      <td>NaN</td>\n",
       "      <td>NaN</td>\n",
       "    </tr>\n",
       "    <tr>\n",
       "      <th>4</th>\n",
       "      <td>ham</td>\n",
       "      <td>Nah I don't think he goes to usf, he lives aro...</td>\n",
       "      <td>NaN</td>\n",
       "      <td>NaN</td>\n",
       "      <td>NaN</td>\n",
       "    </tr>\n",
       "    <tr>\n",
       "      <th>...</th>\n",
       "      <td>...</td>\n",
       "      <td>...</td>\n",
       "      <td>...</td>\n",
       "      <td>...</td>\n",
       "      <td>...</td>\n",
       "    </tr>\n",
       "    <tr>\n",
       "      <th>5567</th>\n",
       "      <td>spam</td>\n",
       "      <td>This is the 2nd time we have tried 2 contact u...</td>\n",
       "      <td>NaN</td>\n",
       "      <td>NaN</td>\n",
       "      <td>NaN</td>\n",
       "    </tr>\n",
       "    <tr>\n",
       "      <th>5568</th>\n",
       "      <td>ham</td>\n",
       "      <td>Will Ì_ b going to esplanade fr home?</td>\n",
       "      <td>NaN</td>\n",
       "      <td>NaN</td>\n",
       "      <td>NaN</td>\n",
       "    </tr>\n",
       "    <tr>\n",
       "      <th>5569</th>\n",
       "      <td>ham</td>\n",
       "      <td>Pity, * was in mood for that. So...any other s...</td>\n",
       "      <td>NaN</td>\n",
       "      <td>NaN</td>\n",
       "      <td>NaN</td>\n",
       "    </tr>\n",
       "    <tr>\n",
       "      <th>5570</th>\n",
       "      <td>ham</td>\n",
       "      <td>The guy did some bitching but I acted like i'd...</td>\n",
       "      <td>NaN</td>\n",
       "      <td>NaN</td>\n",
       "      <td>NaN</td>\n",
       "    </tr>\n",
       "    <tr>\n",
       "      <th>5571</th>\n",
       "      <td>ham</td>\n",
       "      <td>Rofl. Its true to its name</td>\n",
       "      <td>NaN</td>\n",
       "      <td>NaN</td>\n",
       "      <td>NaN</td>\n",
       "    </tr>\n",
       "  </tbody>\n",
       "</table>\n",
       "<p>5572 rows × 5 columns</p>\n",
       "</div>"
      ],
      "text/plain": [
       "        v1                                                 v2 Unnamed: 2  \\\n",
       "0      ham  Go until jurong point, crazy.. Available only ...        NaN   \n",
       "1      ham                      Ok lar... Joking wif u oni...        NaN   \n",
       "2     spam  Free entry in 2 a wkly comp to win FA Cup fina...        NaN   \n",
       "3      ham  U dun say so early hor... U c already then say...        NaN   \n",
       "4      ham  Nah I don't think he goes to usf, he lives aro...        NaN   \n",
       "...    ...                                                ...        ...   \n",
       "5567  spam  This is the 2nd time we have tried 2 contact u...        NaN   \n",
       "5568   ham              Will Ì_ b going to esplanade fr home?        NaN   \n",
       "5569   ham  Pity, * was in mood for that. So...any other s...        NaN   \n",
       "5570   ham  The guy did some bitching but I acted like i'd...        NaN   \n",
       "5571   ham                         Rofl. Its true to its name        NaN   \n",
       "\n",
       "     Unnamed: 3 Unnamed: 4  \n",
       "0           NaN        NaN  \n",
       "1           NaN        NaN  \n",
       "2           NaN        NaN  \n",
       "3           NaN        NaN  \n",
       "4           NaN        NaN  \n",
       "...         ...        ...  \n",
       "5567        NaN        NaN  \n",
       "5568        NaN        NaN  \n",
       "5569        NaN        NaN  \n",
       "5570        NaN        NaN  \n",
       "5571        NaN        NaN  \n",
       "\n",
       "[5572 rows x 5 columns]"
      ]
     },
     "execution_count": 109,
     "metadata": {},
     "output_type": "execute_result"
    }
   ],
   "source": [
    "data=pd.read_csv(\"D://Training_Projects//Projects_intern//spam_filter//Data//spam.csv\",encoding='latin-1')\n",
    "data"
   ]
  },
  {
   "cell_type": "code",
   "execution_count": 110,
   "id": "1a409112",
   "metadata": {},
   "outputs": [
    {
     "data": {
      "text/html": [
       "<div>\n",
       "<style scoped>\n",
       "    .dataframe tbody tr th:only-of-type {\n",
       "        vertical-align: middle;\n",
       "    }\n",
       "\n",
       "    .dataframe tbody tr th {\n",
       "        vertical-align: top;\n",
       "    }\n",
       "\n",
       "    .dataframe thead th {\n",
       "        text-align: right;\n",
       "    }\n",
       "</style>\n",
       "<table border=\"1\" class=\"dataframe\">\n",
       "  <thead>\n",
       "    <tr style=\"text-align: right;\">\n",
       "      <th></th>\n",
       "      <th>v1</th>\n",
       "      <th>v2</th>\n",
       "    </tr>\n",
       "  </thead>\n",
       "  <tbody>\n",
       "    <tr>\n",
       "      <th>0</th>\n",
       "      <td>ham</td>\n",
       "      <td>Go until jurong point, crazy.. Available only ...</td>\n",
       "    </tr>\n",
       "    <tr>\n",
       "      <th>1</th>\n",
       "      <td>ham</td>\n",
       "      <td>Ok lar... Joking wif u oni...</td>\n",
       "    </tr>\n",
       "    <tr>\n",
       "      <th>2</th>\n",
       "      <td>spam</td>\n",
       "      <td>Free entry in 2 a wkly comp to win FA Cup fina...</td>\n",
       "    </tr>\n",
       "    <tr>\n",
       "      <th>3</th>\n",
       "      <td>ham</td>\n",
       "      <td>U dun say so early hor... U c already then say...</td>\n",
       "    </tr>\n",
       "    <tr>\n",
       "      <th>4</th>\n",
       "      <td>ham</td>\n",
       "      <td>Nah I don't think he goes to usf, he lives aro...</td>\n",
       "    </tr>\n",
       "  </tbody>\n",
       "</table>\n",
       "</div>"
      ],
      "text/plain": [
       "     v1                                                 v2\n",
       "0   ham  Go until jurong point, crazy.. Available only ...\n",
       "1   ham                      Ok lar... Joking wif u oni...\n",
       "2  spam  Free entry in 2 a wkly comp to win FA Cup fina...\n",
       "3   ham  U dun say so early hor... U c already then say...\n",
       "4   ham  Nah I don't think he goes to usf, he lives aro..."
      ]
     },
     "execution_count": 110,
     "metadata": {},
     "output_type": "execute_result"
    }
   ],
   "source": [
    "#drop 'Unnamed: 2','Unnamed: 3','Unnamed: 4'\n",
    "data = data.drop(['Unnamed: 2','Unnamed: 3','Unnamed: 4'],axis=1)\n",
    "data.head()\n"
   ]
  },
  {
   "cell_type": "markdown",
   "id": "3f34e987",
   "metadata": {},
   "source": [
    "# Count the number of words in each Text"
   ]
  },
  {
   "cell_type": "code",
   "execution_count": 111,
   "id": "754b22e2",
   "metadata": {},
   "outputs": [],
   "source": [
    "data['Count']=0\n",
    "for i in np.arange(0,len(data.v2)):\n",
    "    data.loc[i,'Count'] = len(data.loc[i,'v2'])"
   ]
  },
  {
   "cell_type": "code",
   "execution_count": 112,
   "id": "a2b55b7a",
   "metadata": {},
   "outputs": [
    {
     "data": {
      "text/html": [
       "<div>\n",
       "<style scoped>\n",
       "    .dataframe tbody tr th:only-of-type {\n",
       "        vertical-align: middle;\n",
       "    }\n",
       "\n",
       "    .dataframe tbody tr th {\n",
       "        vertical-align: top;\n",
       "    }\n",
       "\n",
       "    .dataframe thead th {\n",
       "        text-align: right;\n",
       "    }\n",
       "</style>\n",
       "<table border=\"1\" class=\"dataframe\">\n",
       "  <thead>\n",
       "    <tr style=\"text-align: right;\">\n",
       "      <th></th>\n",
       "      <th>v1</th>\n",
       "      <th>v2</th>\n",
       "      <th>Count</th>\n",
       "    </tr>\n",
       "  </thead>\n",
       "  <tbody>\n",
       "    <tr>\n",
       "      <th>0</th>\n",
       "      <td>ham</td>\n",
       "      <td>Go until jurong point, crazy.. Available only ...</td>\n",
       "      <td>111</td>\n",
       "    </tr>\n",
       "    <tr>\n",
       "      <th>1</th>\n",
       "      <td>ham</td>\n",
       "      <td>Ok lar... Joking wif u oni...</td>\n",
       "      <td>29</td>\n",
       "    </tr>\n",
       "    <tr>\n",
       "      <th>2</th>\n",
       "      <td>spam</td>\n",
       "      <td>Free entry in 2 a wkly comp to win FA Cup fina...</td>\n",
       "      <td>155</td>\n",
       "    </tr>\n",
       "    <tr>\n",
       "      <th>3</th>\n",
       "      <td>ham</td>\n",
       "      <td>U dun say so early hor... U c already then say...</td>\n",
       "      <td>49</td>\n",
       "    </tr>\n",
       "    <tr>\n",
       "      <th>4</th>\n",
       "      <td>ham</td>\n",
       "      <td>Nah I don't think he goes to usf, he lives aro...</td>\n",
       "      <td>61</td>\n",
       "    </tr>\n",
       "  </tbody>\n",
       "</table>\n",
       "</div>"
      ],
      "text/plain": [
       "     v1                                                 v2  Count\n",
       "0   ham  Go until jurong point, crazy.. Available only ...    111\n",
       "1   ham                      Ok lar... Joking wif u oni...     29\n",
       "2  spam  Free entry in 2 a wkly comp to win FA Cup fina...    155\n",
       "3   ham  U dun say so early hor... U c already then say...     49\n",
       "4   ham  Nah I don't think he goes to usf, he lives aro...     61"
      ]
     },
     "execution_count": 112,
     "metadata": {},
     "output_type": "execute_result"
    }
   ],
   "source": [
    "data.head()"
   ]
  },
  {
   "cell_type": "code",
   "execution_count": 113,
   "id": "ac8e42dc",
   "metadata": {},
   "outputs": [
    {
     "data": {
      "text/plain": [
       "ham     4825\n",
       "spam     747\n",
       "Name: v1, dtype: int64"
      ]
     },
     "execution_count": 113,
     "metadata": {},
     "output_type": "execute_result"
    }
   ],
   "source": [
    "# Total ham(0) and spam(1) messages\n",
    "data['v1'].value_counts()"
   ]
  },
  {
   "cell_type": "code",
   "execution_count": 114,
   "id": "0fcc02c9",
   "metadata": {},
   "outputs": [
    {
     "name": "stdout",
     "output_type": "stream",
     "text": [
      "<class 'pandas.core.frame.DataFrame'>\n",
      "RangeIndex: 5572 entries, 0 to 5571\n",
      "Data columns (total 3 columns):\n",
      " #   Column  Non-Null Count  Dtype \n",
      "---  ------  --------------  ----- \n",
      " 0   v1      5572 non-null   object\n",
      " 1   v2      5572 non-null   object\n",
      " 2   Count   5572 non-null   int64 \n",
      "dtypes: int64(1), object(2)\n",
      "memory usage: 130.7+ KB\n"
     ]
    }
   ],
   "source": [
    "data.info()"
   ]
  },
  {
   "cell_type": "code",
   "execution_count": 115,
   "id": "a2e1bd6e",
   "metadata": {},
   "outputs": [
    {
     "name": "stdout",
     "output_type": "stream",
     "text": [
      "Go until jurong point, crazy.. Available only in bugis n great world la e buffet... Cine there got amore wat...\n",
      "Ok lar... Joking wif u oni...\n"
     ]
    }
   ],
   "source": [
    "stored_List_afterprocessing=[]\n",
    "porter_stem=PorterStemmer()\n",
    "print(data['v2'][0])\n",
    "print(data['v2'][1])"
   ]
  },
  {
   "cell_type": "code",
   "execution_count": 116,
   "id": "4637ac1c",
   "metadata": {},
   "outputs": [
    {
     "name": "stdout",
     "output_type": "stream",
     "text": [
      "\t\t\t\t MESSAGE 0\n",
      "\n",
      " After Regular Expression - Message 0 : Go until jurong point crazy Available only in bugis n great world la e buffet Cine there got amore wat\n",
      "\n",
      " Lower Case Message 0 : go until jurong point crazy available only in bugis n great world la e buffet cine there got amore wat\n",
      "\n",
      " After Splitting - Message 0 : ['go', 'until', 'jurong', 'point', 'crazy', 'available', 'only', 'in', 'bugis', 'n', 'great', 'world', 'la', 'e', 'buffet', 'cine', 'there', 'got', 'amore', 'wat']\n",
      "\n",
      " After Stemming - Message  0  :  ['go', 'jurong', 'point', 'crazi', 'avail', 'bugi', 'n', 'great', 'world', 'la', 'e', 'buffet', 'cine', 'got', 'amor', 'wat']\n",
      "\n",
      " Final Prepared - Message  0  :  go jurong point crazi avail bugi n great world la e buffet cine got amor wat \n",
      "\n",
      "\n",
      "\t\t\t\t MESSAGE 1\n",
      "\n",
      " After Regular Expression - Message 1 : Ok lar Joking wif u oni\n",
      "\n",
      " Lower Case Message 1 : ok lar joking wif u oni\n",
      "\n",
      " After Splitting - Message 1 : ['ok', 'lar', 'joking', 'wif', 'u', 'oni']\n",
      "\n",
      " After Stemming - Message  1  :  ['ok', 'lar', 'joke', 'wif', 'u', 'oni']\n",
      "\n",
      " Final Prepared - Message  1  :  ok lar joke wif u oni \n",
      "\n",
      "\n"
     ]
    }
   ],
   "source": [
    "for i in range(0, 5572):\n",
    "    # Apply Regular Expression\n",
    "    msg = data['v2'][i]\n",
    "\n",
    "    # Replace email addresses with 'emailaddr'\n",
    "    msg = re.sub(r'\\b\\w+@\\w+\\.\\w{2,4}\\b', 'emailaddr', msg)\n",
    "\n",
    "    # Replace URLs with 'httpaddr'\n",
    "    msg = re.sub(r'http[s]?:\\/\\/\\S+', 'httpaddr', msg)\n",
    "\n",
    "    # Replace money symbols with 'moneysymb'\n",
    "    msg = re.sub(r'[£$]', 'moneysymb', msg)\n",
    "\n",
    "    # Replace phone numbers with 'phonenumbr'\n",
    "    msg = re.sub(r'\\b(\\+\\d{1,2}\\s)?\\d?[\\-(.]?\\d{3}\\)?[\\s.-]?\\d{3}[\\s.-]?\\d{4}\\b', 'phonenumbr', msg)\n",
    "\n",
    "    # Replace numbers with 'numbr'\n",
    "    msg = re.sub(r'\\b\\d+(\\.\\d+)?\\b', 'numbr', msg)\n",
    "\n",
    "    # Remove all punctuations\n",
    "    msg = re.sub('[^\\w\\d\\s]', '', data['v2'][i])\n",
    "\n",
    "    if i < 2:  # if i < 2 is used in the code to print out the intermediate results for only the first two iterations of the loop\n",
    "        print(\"\\t\\t\\t\\t MESSAGE\", i)\n",
    "    if i < 2:\n",
    "        print(\"\\n After Regular Expression - Message\", i, \":\", msg)\n",
    "\n",
    "    ########################################################3\n",
    "    # Other processes without regular expression\n",
    "    msg = msg.lower()\n",
    "    if i < 2:\n",
    "        print(\"\\n Lower Case Message\", i, \":\", msg)\n",
    "    # Splitting words to Tokenize\n",
    "    msg = msg.split()\n",
    "    if i < 2:\n",
    "        print(\"\\n After Splitting - Message\", i, \":\", msg)\n",
    "    # Stemming with PorterStemmer handling Stop Words\n",
    "    msg = [porter_stem.stem(word) for word in msg if not word in set(stopwords.words(\"english\"))]\n",
    "    if i < 2:\n",
    "        print(\"\\n After Stemming - Message \", i, \" : \", msg)\n",
    "    # Preparing Messages with Remaining Tokens\n",
    "    msg = ' '.join(msg)\n",
    "    if i < 2:\n",
    "        print(\"\\n Final Prepared - Message \", i, \" : \", msg, \"\\n\\n\")\n",
    "\n",
    "    # Preparing WordVector Corpus\n",
    "    stored_List_afterprocessing.append(msg)\n"
   ]
  },
  {
   "cell_type": "markdown",
   "id": "4d84a20e",
   "metadata": {},
   "source": [
    "'''\n",
    "\\w+@\\w+\\.\\w{2,4} is used to match email addresses.\n",
    "http[s]?:\\/\\/\\S+ is used to match URLs.\n",
    "[£$] is used to match money symbols.\n",
    "\\b(\\+\\d{1,2}\\s)?\\d?[\\-(.]?\\d{3}\\)?[\\s.-]?\\d{3}[\\s.-]?\\d{4}\\b is used to match phone numbers.\n",
    "\\b\\d+(\\.\\d+)?\\b is used to match numbers.\n",
    "\\b matches at the beginning or end of a word\n",
    "For example:\n",
    "\\bword\\b matches the word \"word\" only if it appears as a whole word, not as part of another word like \"keyword\" or \"words\".\n",
    "\\b\\d{3}\\b matches a three-digit number only if it appears as a whole word, not as part of a longer number like \"1234\" or \"456789\"\n",
    ".\n",
    "'''"
   ]
  },
  {
   "cell_type": "code",
   "execution_count": 117,
   "id": "9ab4d36a",
   "metadata": {},
   "outputs": [],
   "source": [
    "countVec=CountVectorizer()#CountVectorizer() is a class from the scikit-learn library used to convert a collection of text documents into a matrix of token counts.\n",
    "x=countVec.fit_transform(stored_List_afterprocessing).toarray()"
   ]
  },
  {
   "cell_type": "code",
   "execution_count": 118,
   "id": "bbbec2b4",
   "metadata": {},
   "outputs": [
    {
     "name": "stdout",
     "output_type": "stream",
     "text": [
      "ham     4825\n",
      "spam     747\n",
      "Name: v1, dtype: int64\n",
      "ham\n",
      "ham\n"
     ]
    }
   ],
   "source": [
    "#Classification\n",
    "# i will work with v1 \n",
    "y=data['v1']\n",
    "print(y.value_counts())\n",
    "print(y[0])\n",
    "print(y[1])"
   ]
  },
  {
   "cell_type": "code",
   "execution_count": 119,
   "id": "1a3f3c9b",
   "metadata": {},
   "outputs": [
    {
     "name": "stdout",
     "output_type": "stream",
     "text": [
      "[0 0 1 ... 0 0 0]\n",
      "0\n",
      "0\n"
     ]
    }
   ],
   "source": [
    "### Encoding Labels i want tp\n",
    "encoding=LabelEncoder()#This class is used to encode categorical target labels with integer values\n",
    "y=encoding.fit_transform(y)#fit(): It learns the vocabulary dictionary of the input data \n",
    "print(y)\n",
    "print(y[0])\n",
    "print(y[1])"
   ]
  },
  {
   "cell_type": "markdown",
   "id": "fa73e4b9",
   "metadata": {},
   "source": [
    "# This class is used to encode categorical target labels with integer values\n"
   ]
  },
  {
   "cell_type": "code",
   "execution_count": 120,
   "id": "cea6098d",
   "metadata": {},
   "outputs": [],
   "source": [
    " xtrain,xtest,ytrain,ytest=train_test_split(x,y,test_size=0.20,random_state=0)\n",
    "    "
   ]
  },
  {
   "cell_type": "markdown",
   "id": "83f82af0",
   "metadata": {},
   "source": [
    "# Applying Guassian Naive Bayes\n",
    "#is one of the best algorithms used with text analysis)\n"
   ]
  },
  {
   "cell_type": "code",
   "execution_count": 121,
   "id": "178fca0f",
   "metadata": {},
   "outputs": [
    {
     "data": {
      "text/html": [
       "<style>#sk-container-id-8 {color: black;}#sk-container-id-8 pre{padding: 0;}#sk-container-id-8 div.sk-toggleable {background-color: white;}#sk-container-id-8 label.sk-toggleable__label {cursor: pointer;display: block;width: 100%;margin-bottom: 0;padding: 0.3em;box-sizing: border-box;text-align: center;}#sk-container-id-8 label.sk-toggleable__label-arrow:before {content: \"▸\";float: left;margin-right: 0.25em;color: #696969;}#sk-container-id-8 label.sk-toggleable__label-arrow:hover:before {color: black;}#sk-container-id-8 div.sk-estimator:hover label.sk-toggleable__label-arrow:before {color: black;}#sk-container-id-8 div.sk-toggleable__content {max-height: 0;max-width: 0;overflow: hidden;text-align: left;background-color: #f0f8ff;}#sk-container-id-8 div.sk-toggleable__content pre {margin: 0.2em;color: black;border-radius: 0.25em;background-color: #f0f8ff;}#sk-container-id-8 input.sk-toggleable__control:checked~div.sk-toggleable__content {max-height: 200px;max-width: 100%;overflow: auto;}#sk-container-id-8 input.sk-toggleable__control:checked~label.sk-toggleable__label-arrow:before {content: \"▾\";}#sk-container-id-8 div.sk-estimator input.sk-toggleable__control:checked~label.sk-toggleable__label {background-color: #d4ebff;}#sk-container-id-8 div.sk-label input.sk-toggleable__control:checked~label.sk-toggleable__label {background-color: #d4ebff;}#sk-container-id-8 input.sk-hidden--visually {border: 0;clip: rect(1px 1px 1px 1px);clip: rect(1px, 1px, 1px, 1px);height: 1px;margin: -1px;overflow: hidden;padding: 0;position: absolute;width: 1px;}#sk-container-id-8 div.sk-estimator {font-family: monospace;background-color: #f0f8ff;border: 1px dotted black;border-radius: 0.25em;box-sizing: border-box;margin-bottom: 0.5em;}#sk-container-id-8 div.sk-estimator:hover {background-color: #d4ebff;}#sk-container-id-8 div.sk-parallel-item::after {content: \"\";width: 100%;border-bottom: 1px solid gray;flex-grow: 1;}#sk-container-id-8 div.sk-label:hover label.sk-toggleable__label {background-color: #d4ebff;}#sk-container-id-8 div.sk-serial::before {content: \"\";position: absolute;border-left: 1px solid gray;box-sizing: border-box;top: 0;bottom: 0;left: 50%;z-index: 0;}#sk-container-id-8 div.sk-serial {display: flex;flex-direction: column;align-items: center;background-color: white;padding-right: 0.2em;padding-left: 0.2em;position: relative;}#sk-container-id-8 div.sk-item {position: relative;z-index: 1;}#sk-container-id-8 div.sk-parallel {display: flex;align-items: stretch;justify-content: center;background-color: white;position: relative;}#sk-container-id-8 div.sk-item::before, #sk-container-id-8 div.sk-parallel-item::before {content: \"\";position: absolute;border-left: 1px solid gray;box-sizing: border-box;top: 0;bottom: 0;left: 50%;z-index: -1;}#sk-container-id-8 div.sk-parallel-item {display: flex;flex-direction: column;z-index: 1;position: relative;background-color: white;}#sk-container-id-8 div.sk-parallel-item:first-child::after {align-self: flex-end;width: 50%;}#sk-container-id-8 div.sk-parallel-item:last-child::after {align-self: flex-start;width: 50%;}#sk-container-id-8 div.sk-parallel-item:only-child::after {width: 0;}#sk-container-id-8 div.sk-dashed-wrapped {border: 1px dashed gray;margin: 0 0.4em 0.5em 0.4em;box-sizing: border-box;padding-bottom: 0.4em;background-color: white;}#sk-container-id-8 div.sk-label label {font-family: monospace;font-weight: bold;display: inline-block;line-height: 1.2em;}#sk-container-id-8 div.sk-label-container {text-align: center;}#sk-container-id-8 div.sk-container {/* jupyter's `normalize.less` sets `[hidden] { display: none; }` but bootstrap.min.css set `[hidden] { display: none !important; }` so we also need the `!important` here to be able to override the default hidden behavior on the sphinx rendered scikit-learn.org. See: https://github.com/scikit-learn/scikit-learn/issues/21755 */display: inline-block !important;position: relative;}#sk-container-id-8 div.sk-text-repr-fallback {display: none;}</style><div id=\"sk-container-id-8\" class=\"sk-top-container\"><div class=\"sk-text-repr-fallback\"><pre>GaussianNB()</pre><b>In a Jupyter environment, please rerun this cell to show the HTML representation or trust the notebook. <br />On GitHub, the HTML representation is unable to render, please try loading this page with nbviewer.org.</b></div><div class=\"sk-container\" hidden><div class=\"sk-item\"><div class=\"sk-estimator sk-toggleable\"><input class=\"sk-toggleable__control sk-hidden--visually\" id=\"sk-estimator-id-8\" type=\"checkbox\" checked><label for=\"sk-estimator-id-8\" class=\"sk-toggleable__label sk-toggleable__label-arrow\">GaussianNB</label><div class=\"sk-toggleable__content\"><pre>GaussianNB()</pre></div></div></div></div></div>"
      ],
      "text/plain": [
       "GaussianNB()"
      ]
     },
     "execution_count": 121,
     "metadata": {},
     "output_type": "execute_result"
    }
   ],
   "source": [
    "bayes_classifier=GaussianNB()\n",
    "bayes_classifier.fit(xtrain,ytrain)##fit(): It learns the vocabulary dictionary of the input data \n"
   ]
  },
  {
   "cell_type": "code",
   "execution_count": 122,
   "id": "8e05445c",
   "metadata": {},
   "outputs": [
    {
     "data": {
      "text/plain": [
       "array([0, 0, 0, ..., 0, 0, 0])"
      ]
     },
     "execution_count": 122,
     "metadata": {},
     "output_type": "execute_result"
    }
   ],
   "source": [
    "#Predicting\n",
    "y_pred=bayes_classifier.predict(xtest)\n",
    "y_pred\n"
   ]
  },
  {
   "cell_type": "markdown",
   "id": "bb1d5252",
   "metadata": {},
   "source": [
    "# Results"
   ]
  },
  {
   "cell_type": "code",
   "execution_count": 123,
   "id": "d07c8c41",
   "metadata": {},
   "outputs": [
    {
     "data": {
      "text/plain": [
       "array([[816, 133],\n",
       "       [ 26, 140]], dtype=int64)"
      ]
     },
     "execution_count": 123,
     "metadata": {},
     "output_type": "execute_result"
    }
   ],
   "source": [
    "# Evaluating\n",
    "cMatrix=confusion_matrix(ytest,y_pred)#confusion_matrix function is a tool used to evaluate the performance of a classification model. It compares the actual labels of the test data with the predicted labels generated by the model\n",
    "cMatrix"
   ]
  },
  {
   "cell_type": "markdown",
   "id": "b6ec2de6",
   "metadata": {},
   "source": [
    "The top-left value (816) represents the number of true negatives (TN).\n",
    "The top-right value (133) represents the number of false positives (FP).\n",
    "The bottom-left value (26) represents the number of false negatives (FN).\n",
    "The bottom-right value (140) represents the number of true positives (TP)."
   ]
  },
  {
   "cell_type": "code",
   "execution_count": null,
   "id": "64e19635",
   "metadata": {},
   "outputs": [],
   "source": [
    "\n",
    "# Calculating and printing the accuracy score\n",
    "accuracy = accuracy_score(ytest, bayes_classifier.predict(xtest))\n",
    "print(\"Accuracy :%0.5f\" % accuracy)\n",
    "\n",
    "# Generating and printing the classification report\n",
    "report = classification_report(ytest, bayes_classifier.predict(xtest))\n",
    "print(report)\n"
   ]
  },
  {
   "cell_type": "markdown",
   "id": "7cfdcbe5",
   "metadata": {},
   "source": [
    "# Applying Decision Tree\n"
   ]
  },
  {
   "cell_type": "code",
   "execution_count": null,
   "id": "0ed5737c",
   "metadata": {},
   "outputs": [],
   "source": [
    "dTree=DecisionTreeClassifier(random_state=50)\n",
    "dTree.fit(xtrain,ytrain)"
   ]
  },
  {
   "cell_type": "code",
   "execution_count": null,
   "id": "a9308fde",
   "metadata": {},
   "outputs": [],
   "source": [
    "#predicting\n",
    "y_pred_dTree=dTree.predict(xtest)"
   ]
  },
  {
   "cell_type": "code",
   "execution_count": null,
   "id": "c7dfb186",
   "metadata": {},
   "outputs": [],
   "source": [
    "#Evaluating\n",
    "CMatrix=confusion_matrix(ytest,y_pred_dTree)\n",
    "CMatrix"
   ]
  },
  {
   "cell_type": "code",
   "execution_count": null,
   "id": "0d373ac9",
   "metadata": {},
   "outputs": [],
   "source": [
    "print (\"Accuracy : %0.5f \\n\\n\" % accuracy_score(ytest, dTree.predict(xtest)))\n",
    "print (classification_report(ytest, dTree.predict(xtest)))"
   ]
  },
  {
   "cell_type": "code",
   "execution_count": null,
   "id": "83bd405c",
   "metadata": {},
   "outputs": [],
   "source": []
  },
  {
   "cell_type": "code",
   "execution_count": null,
   "id": "9654cbfc",
   "metadata": {},
   "outputs": [],
   "source": []
  }
 ],
 "metadata": {
  "kernelspec": {
   "display_name": "Python 3 (ipykernel)",
   "language": "python",
   "name": "python3"
  },
  "language_info": {
   "codemirror_mode": {
    "name": "ipython",
    "version": 3
   },
   "file_extension": ".py",
   "mimetype": "text/x-python",
   "name": "python",
   "nbconvert_exporter": "python",
   "pygments_lexer": "ipython3",
   "version": "3.11.3"
  }
 },
 "nbformat": 4,
 "nbformat_minor": 5
}
